{
 "cells": [
  {
   "cell_type": "markdown",
   "id": "947a41c2",
   "metadata": {},
   "source": [
    "1. What does an empty dictionary&#39;s code look like?\n",
    "\n",
    "\n",
    "Ans. it's just the opening and closed curly brackets example : {}"
   ]
  },
  {
   "cell_type": "markdown",
   "id": "5c2072d9",
   "metadata": {},
   "source": [
    "2. What is the value of a dictionary value with the key &#39;foo&#39; and the value 42?\n",
    "\n",
    "\n",
    "Ans. 42 woud be the value of this dictionary"
   ]
  },
  {
   "cell_type": "markdown",
   "id": "ec759202",
   "metadata": {},
   "source": [
    "3. What is the most significant distinction between a dictionary and a list?\n",
    "\n",
    "\n",
    "Ans. List is ordered and mutable dictionaries are unordered and immutable.\n"
   ]
  },
  {
   "cell_type": "markdown",
   "id": "ec2812ae",
   "metadata": {},
   "source": [
    "4. What happens if you try to access spam[&#39;foo&#39;] if spam is {&#39;bar&#39;: 100}?\n",
    "                                          \n",
    "Ans We will get a 'KeyError' as foo is not a key in the given dictionary"
   ]
  },
  {
   "cell_type": "markdown",
   "id": "2d5c6a5d",
   "metadata": {},
   "source": [
    "If a dictionary is stored in spam, what is the difference between the expressions &#39;cat&#39; in spam and\n",
    "&#39;cat&#39; in spam.keys()?\n",
    "\n",
    "Ans. Both will return True as 'cat' is available in the dictionary spam and it's available as a key."
   ]
  },
  {
   "cell_type": "markdown",
   "id": "3dad96c4",
   "metadata": {},
   "source": [
    "6. If a dictionary is stored in spam, what is the difference between the expressions &#39;cat&#39; in spam and\n",
    "&#39;cat&#39; in spam.values()?\n",
    "Ans. Cat in spam will return True however cat in  spam values will return false as it is present as a key not a value"
   ]
  },
  {
   "cell_type": "markdown",
   "id": "46cb162e",
   "metadata": {},
   "source": [
    "7. What is a shortcut for the following code?\n",
    "if &#39;color&#39; not in spam:\n",
    "spam[&#39;color&#39;] = &#39;black&#39;\n",
    "\n",
    "Ans. spam.setdefault('color', 'black')"
   ]
  },
  {
   "cell_type": "markdown",
   "id": "c155b1ad",
   "metadata": {},
   "source": [
    "8. How do you &quot;pretty print&quot; dictionary values using which module and function?\n",
    "\n",
    "Ans. pprint.pprint()"
   ]
  },
  {
   "cell_type": "code",
   "execution_count": 26,
   "id": "2268a2d0",
   "metadata": {},
   "outputs": [],
   "source": []
  },
  {
   "cell_type": "code",
   "execution_count": null,
   "id": "e8349ea8",
   "metadata": {},
   "outputs": [],
   "source": []
  }
 ],
 "metadata": {
  "kernelspec": {
   "display_name": "Python 3 (ipykernel)",
   "language": "python",
   "name": "python3"
  },
  "language_info": {
   "codemirror_mode": {
    "name": "ipython",
    "version": 3
   },
   "file_extension": ".py",
   "mimetype": "text/x-python",
   "name": "python",
   "nbconvert_exporter": "python",
   "pygments_lexer": "ipython3",
   "version": "3.9.13"
  }
 },
 "nbformat": 4,
 "nbformat_minor": 5
}
