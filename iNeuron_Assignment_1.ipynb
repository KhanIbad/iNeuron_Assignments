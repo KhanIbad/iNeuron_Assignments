{
 "cells": [
  {
   "cell_type": "raw",
   "metadata": {},
   "source": [
    "1. In the below elements which of them are values or an expression? eg:- values can be integer or string and expressions will be mathematical operators.\n",
    "* \n",
    "'hello'\n",
    "-87.8\n",
    "- \n",
    "/ \n",
    "+\t\n",
    "6 \n",
    "Answer)\n",
    "'hello' is string value\n",
    "-87.8 is a float\n",
    "6 is a integer\n",
    "* - / + are expressions."
   ]
  },
  {
   "cell_type": "raw",
   "metadata": {},
   "source": [
    "2.What is the difference between string and variable?\n",
    "Answer) String is a value and must be wrapped inside double or single quotes, A variable give a name to a piece of data.\n",
    "Like a box with a label, it tells you what's inside the box.\n"
   ]
  },
  {
   "cell_type": "raw",
   "metadata": {},
   "source": [
    "3.Describe three different data types.\n",
    "Answer)\n",
    "1) List :- it's a collection of elements and it's mutable (means we can change it,access it and do indexing on it) we use\n",
    "    [] square brackets for list.\n",
    "2)Tuple :- Tuple are immutable and in real life we use it for security purposes like passwords etc. for tuples we use () round\n",
    "    brackets.\n",
    "3)Set :- Set is neither mutable nor immutable it's a collection of unordered elements. For set we use {} curly brackets."
   ]
  },
  {
   "cell_type": "raw",
   "metadata": {},
   "source": [
    "4.What is an expression made up of?What do all expressions do?\n",
    "Answer) An expression is any legal combination symbols that represents a value."
   ]
  },
  {
   "cell_type": "raw",
   "metadata": {},
   "source": [
    "5. This assignment statements, like spam = 10. What is the difference between an expression and a statement?\n",
    "Answer) Statements are instructions given by a programmer to the machine to perform some action.\n",
    "we do not neccessarily have to assign variable to expressions but for expressions we have to."
   ]
  },
  {
   "cell_type": "raw",
   "metadata": {},
   "source": [
    "6. After running the following code, what does the variable bacon contain?\n",
    "bacon = 22\n",
    "bacon + 1\n",
    "Answer) 23"
   ]
  },
  {
   "cell_type": "raw",
   "metadata": {},
   "source": [
    "# 7. What should the values of the following two terms be?\n",
    "'spam'+'spam'+'spam'\n",
    "'spam'* 3\n",
    "Answer) 'spamspamspam'"
   ]
  },
  {
   "cell_type": "raw",
   "metadata": {},
   "source": [
    "8. Why is eggs a valid variable name while 100 is invalid?\n",
    "Answer) Because a variable has to start with an lowercase alphabet and NOT with a number or with a speacial character (Except underscore _)"
   ]
  },
  {
   "cell_type": "raw",
   "metadata": {},
   "source": [
    "9. What three functions can be used to get the integer, floating-point number, or string version of a value?\n",
    "Answer) Int,float,Str"
   ]
  },
  {
   "cell_type": "raw",
   "metadata": {},
   "source": [
    "10. Why does this expression cause an error? How can you fix it?\n",
    "'I have eaten '+ 99 +'burritos.'\n",
    "Answer) Because it contains two different data types strind and list, we can solve it by wrapping 99 in a single\n",
    "        '' or double quotes \"\"."
   ]
  }
 ],
 "metadata": {
  "kernelspec": {
   "display_name": "Python 3",
   "language": "python",
   "name": "python3"
  },
  "language_info": {
   "codemirror_mode": {
    "name": "ipython",
    "version": 3
   },
   "file_extension": ".py",
   "mimetype": "text/x-python",
   "name": "python",
   "nbconvert_exporter": "python",
   "pygments_lexer": "ipython3",
   "version": "3.8.3"
  }
 },
 "nbformat": 4,
 "nbformat_minor": 4
}
