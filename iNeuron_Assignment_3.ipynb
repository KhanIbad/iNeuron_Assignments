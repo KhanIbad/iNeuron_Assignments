{
 "cells": [
  {
   "cell_type": "raw",
   "metadata": {},
   "source": [
    "1. Why are functions advantageous to have in your programs?\n",
    "2. When does the code in a function run: when it's specified or when it's called?\n",
    "3. What statement creates a function?\n",
    "4. What is the difference between a function and a function call?\n",
    "5. How many global scopes are there in a Python program? How many local scopes?\n",
    "6. What happens to variables in a local scope when the function call returns?\n",
    "7. What is the concept of a return value? Is it possible to have a return value in an expression?\n",
    "8. If a function does not have a return statement, what is the return value of a call to that function?\n",
    "9. How do you make a function variable refer to the global variable?\n",
    "10. What is the data type of None?\n",
    "11. What does the sentence import areallyourpetsnamederic do?\n",
    "12. If you had a bacon() feature in a spam module, what would you call it after importing spam?13. What can you do to save a programme from crashing if it encounters an error?\n",
    "14. What is the purpose of the try clause? What is the purpose of the except clause?"
   ]
  },
  {
   "cell_type": "raw",
   "metadata": {},
   "source": [
    "1. Why are functions advantageous to have in your programs?\n",
    "\n",
    "Ans) The biggest advantage of a function is to bundle a set of instructions we do not want to repeat.\n",
    "just mention everything once inside a function and we can re use it as many times as we want."
   ]
  },
  {
   "cell_type": "raw",
   "metadata": {},
   "source": [
    "2. When does the code in a function run: when it's specified or when it's called?\n",
    "\n",
    "Ans) When we use return or print in the output of the function and after that we have to call the function by simply mentioning the name we defined for it and passing (if any) arguments in it."
   ]
  },
  {
   "cell_type": "raw",
   "metadata": {},
   "source": [
    "3. What statement creates a function?\n",
    "\n",
    "Ans) \"def\" helps creates a function which means define."
   ]
  },
  {
   "cell_type": "raw",
   "metadata": {},
   "source": [
    "4. What is the difference between a function and a function call?\n",
    "\n",
    "Ans) In Function we define all our instructions and the output we need, function call we are just passing the input(if any) and it's giving us the output basis on the instructions we had defined while creating it."
   ]
  },
  {
   "cell_type": "raw",
   "metadata": {},
   "source": [
    "5. How many global scopes are there in a Python program? How many local scopes?\n",
    "\n",
    "Ans) There's only one global Python scope per program execution,there can be any number of local scopes\n",
    "however there are 4 scopes in total in python and works in the below mentioned sequence only.\n",
    "LEGB (Local, Enclosing, Global, Built_In)"
   ]
  },
  {
   "cell_type": "raw",
   "metadata": {},
   "source": [
    "6. What happens to variables in a local scope when the function call returns?\n",
    "\n",
    "Ans) A local variable retains its value until the next time the function is called A local variable becomes undefined after the function call completes "
   ]
  },
  {
   "cell_type": "raw",
   "metadata": {},
   "source": [
    "7. What is the concept of a return value? Is it possible to have a return value in an expression?\n",
    "\n",
    "Ans)\n",
    "A return statement is used to end the execution of the function call and “returns” the result (value of the expression following the return keyword) to the caller. The statements after the return statements are not executed. "
   ]
  },
  {
   "cell_type": "raw",
   "metadata": {},
   "source": [
    "8. If a function does not have a return statement, what is the return value of a call to that function?\n",
    "\n",
    "Ans) If the return statement is without any expression, then the special value None is returned.\n"
   ]
  },
  {
   "cell_type": "raw",
   "metadata": {},
   "source": [
    "9. How do you make a function variable refer to the global variable?\n",
    "\n",
    "Ans) by mentioning \"global \"variable_name\" \" inside the function."
   ]
  },
  {
   "cell_type": "raw",
   "metadata": {},
   "source": [
    "10. What is the data type of None?\n",
    "\n",
    "Ans)\n",
    "The None keyword is used to define a null value, or no value at all. None is not the same as 0, False, or an empty string. None is a data type of its own (NoneType) and only None can be None."
   ]
  },
  {
   "cell_type": "raw",
   "metadata": {},
   "source": [
    "11. What does the sentence import areallyourpetsnamederic do?\n",
    "\n",
    "Ans) import statement imports a module named areallyourpetsnamederic."
   ]
  },
  {
   "cell_type": "raw",
   "metadata": {},
   "source": [
    "12. If you had a bacon() feature in a spam module, what would you call it after importing spam?\n",
    "\n",
    "Ans) spam.bacon() (if the spam module was not imported completely)"
   ]
  },
  {
   "cell_type": "raw",
   "metadata": {},
   "source": [
    "13. What can you do to save a programme from crashing if it encounters an error?\n",
    "\n",
    "Ans) We can use try ,except and else functions."
   ]
  },
  {
   "cell_type": "raw",
   "metadata": {},
   "source": [
    "14. What is the purpose of the try clause? What is the purpose of the except clause?\n",
    "\n",
    "Ans) try and except is used to catch errors in the code and return only that error code which could be the cause of the error.We use these two when we know that some error might occur."
   ]
  }
 ],
 "metadata": {
  "kernelspec": {
   "display_name": "Python 3",
   "language": "python",
   "name": "python3"
  },
  "language_info": {
   "codemirror_mode": {
    "name": "ipython",
    "version": 3
   },
   "file_extension": ".py",
   "mimetype": "text/x-python",
   "name": "python",
   "nbconvert_exporter": "python",
   "pygments_lexer": "ipython3",
   "version": "3.8.3"
  }
 },
 "nbformat": 4,
 "nbformat_minor": 4
}
